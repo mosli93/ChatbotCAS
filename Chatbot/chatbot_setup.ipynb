{
 "cells": [
  {
   "attachments": {},
   "cell_type": "markdown",
   "metadata": {},
   "source": [
    "# A Chatbot using GPT and a Database\n",
    "This allows multiple chatbot types (e.g. a health coach and a learning assistant) to be created. Multiple chatbot instances can be created per chatbot type (e.g. a health coach for user X and user Y, and a learning assistant for user P and user Q). Both, types and instances are stored with and referenced by an ID (e.g. a UUID) in the database.\n",
    "\n",
    "This notebook is a simplest possible tutorial guiding you to create one type with one instance. Have a look at the **chatbot_setup_advanced.jpynp** for more advanced features.\n",
    "\n",
    "### 1. Preparation\n",
    "\n",
    "##### 1.1. Set the OpenAI API Key and Model\n",
    "Rename the file **chatbot/openai_template.py** to **chatbot/openai.py** and set the following keys.\n",
    "- OPENAI_KEY = \"your OpenAI API key in quotes\"\n",
    "- OPENAI_MODEL = \"model name in quotes, e.g. gpt-3.5-turbo-16k\"\n",
    "\n",
    "##### 1.2. Install openai package\n",
    "<sup><sub>Note: If you are using GitHub Codespaces, the first time you execute a code cell, you might get asked questions from the development environment (IDE). You can say yes to recommended installations, and to installing/enabling reecommended extensions. When asked to **Select Another Kernel**, choose **Python Environments** and select the recommende environment, e.g., **Python 3.10.13**</sub></sup>"
   ]
  },
  {
   "cell_type": "code",
   "execution_count": 1,
   "metadata": {},
   "outputs": [
    {
     "name": "stdout",
     "output_type": "stream",
     "text": [
      "Defaulting to user installation because normal site-packages is not writeable\n",
      "Requirement already satisfied: openai in c:\\users\\olm\\appdata\\local\\packages\\pythonsoftwarefoundation.python.3.12_qbz5n2kfra8p0\\localcache\\local-packages\\python312\\site-packages (1.12.0)\n",
      "Requirement already satisfied: anyio<5,>=3.5.0 in c:\\users\\olm\\appdata\\local\\packages\\pythonsoftwarefoundation.python.3.12_qbz5n2kfra8p0\\localcache\\local-packages\\python312\\site-packages (from openai) (4.3.0)\n",
      "Requirement already satisfied: distro<2,>=1.7.0 in c:\\users\\olm\\appdata\\local\\packages\\pythonsoftwarefoundation.python.3.12_qbz5n2kfra8p0\\localcache\\local-packages\\python312\\site-packages (from openai) (1.9.0)\n",
      "Requirement already satisfied: httpx<1,>=0.23.0 in c:\\users\\olm\\appdata\\local\\packages\\pythonsoftwarefoundation.python.3.12_qbz5n2kfra8p0\\localcache\\local-packages\\python312\\site-packages (from openai) (0.27.0)\n",
      "Requirement already satisfied: pydantic<3,>=1.9.0 in c:\\users\\olm\\appdata\\local\\packages\\pythonsoftwarefoundation.python.3.12_qbz5n2kfra8p0\\localcache\\local-packages\\python312\\site-packages (from openai) (2.6.2)\n",
      "Requirement already satisfied: sniffio in c:\\users\\olm\\appdata\\local\\packages\\pythonsoftwarefoundation.python.3.12_qbz5n2kfra8p0\\localcache\\local-packages\\python312\\site-packages (from openai) (1.3.0)\n",
      "Requirement already satisfied: tqdm>4 in c:\\users\\olm\\appdata\\local\\packages\\pythonsoftwarefoundation.python.3.12_qbz5n2kfra8p0\\localcache\\local-packages\\python312\\site-packages (from openai) (4.66.2)\n",
      "Requirement already satisfied: typing-extensions<5,>=4.7 in c:\\users\\olm\\appdata\\local\\packages\\pythonsoftwarefoundation.python.3.12_qbz5n2kfra8p0\\localcache\\local-packages\\python312\\site-packages (from openai) (4.9.0)\n",
      "Requirement already satisfied: idna>=2.8 in c:\\users\\olm\\appdata\\local\\packages\\pythonsoftwarefoundation.python.3.12_qbz5n2kfra8p0\\localcache\\local-packages\\python312\\site-packages (from anyio<5,>=3.5.0->openai) (3.6)\n",
      "Requirement already satisfied: certifi in c:\\users\\olm\\appdata\\local\\packages\\pythonsoftwarefoundation.python.3.12_qbz5n2kfra8p0\\localcache\\local-packages\\python312\\site-packages (from httpx<1,>=0.23.0->openai) (2024.2.2)\n",
      "Requirement already satisfied: httpcore==1.* in c:\\users\\olm\\appdata\\local\\packages\\pythonsoftwarefoundation.python.3.12_qbz5n2kfra8p0\\localcache\\local-packages\\python312\\site-packages (from httpx<1,>=0.23.0->openai) (1.0.4)\n",
      "Requirement already satisfied: h11<0.15,>=0.13 in c:\\users\\olm\\appdata\\local\\packages\\pythonsoftwarefoundation.python.3.12_qbz5n2kfra8p0\\localcache\\local-packages\\python312\\site-packages (from httpcore==1.*->httpx<1,>=0.23.0->openai) (0.14.0)\n",
      "Requirement already satisfied: annotated-types>=0.4.0 in c:\\users\\olm\\appdata\\local\\packages\\pythonsoftwarefoundation.python.3.12_qbz5n2kfra8p0\\localcache\\local-packages\\python312\\site-packages (from pydantic<3,>=1.9.0->openai) (0.6.0)\n",
      "Requirement already satisfied: pydantic-core==2.16.3 in c:\\users\\olm\\appdata\\local\\packages\\pythonsoftwarefoundation.python.3.12_qbz5n2kfra8p0\\localcache\\local-packages\\python312\\site-packages (from pydantic<3,>=1.9.0->openai) (2.16.3)\n",
      "Requirement already satisfied: colorama in c:\\users\\olm\\appdata\\local\\packages\\pythonsoftwarefoundation.python.3.12_qbz5n2kfra8p0\\localcache\\local-packages\\python312\\site-packages (from tqdm>4->openai) (0.4.6)\n",
      "Note: you may need to restart the kernel to use updated packages.\n"
     ]
    }
   ],
   "source": [
    "%pip install openai"
   ]
  },
  {
   "cell_type": "markdown",
   "metadata": {},
   "source": [
    "##### 1.3. Import Chatbot library"
   ]
  },
  {
   "cell_type": "code",
   "execution_count": 2,
   "metadata": {},
   "outputs": [],
   "source": [
    "from chatbot.chatbot import Chatbot"
   ]
  },
  {
   "attachments": {},
   "cell_type": "markdown",
   "metadata": {},
   "source": [
    "### 2. Create a chatbot of type **health coach** for user **Daniel Müller**"
   ]
  },
  {
   "cell_type": "markdown",
   "metadata": {},
   "source": [
    "##### 2.1. Prompt Engineering\n",
    "To create a chatbot, we need to provide prompts. There are three prompts that can be used to customise the behaviour of the chatbot: a ***role***, ***context***, and ***starter*** prompt.\n",
    "\n",
    "**Role Prompt (type_role)**\n",
    "\n",
    "This prompt will be put at the beginning of the utterances sent to openai for completion. If you create multiple chatbots of the same type, this prompt will be the same for each one of them.\n",
    "\n",
    "You can use this prompt to specify the general (user-independent) behaviour of the chatbot, for example specifying the kind of person to enact, the topical context it acts in, and the goal of conversations it conducts with its users."
   ]
  },
  {
   "cell_type": "code",
   "execution_count": 3,
   "metadata": {},
   "outputs": [],
   "source": [
    "my_type_role = \"\"\"\n",
    "You are an HR Recruiter. Candidates will asks you to clarify the job description of an IT project manager, answer different questions and describe the company culture which is based on an agile environment. Specify the tasks for the role and the requirements from the candidate. The following are Infos about the company: ti&m AG, ein in der Schweiz ansässiges Unternehmen, ist führend in den Bereichen Digitalisierung, Sicherheit und Innovationsprojekte. Sie integrieren die gesamte IT-Wertschöpfungskette und bieten Dienstleistungen in diversen Bereichen wie Cloud, Consulting, Engineering und Hosting an. Das Unternehmen ermutigt potenzielle Mitarbeiter, Teil seines Teams zu werden und bietet vielfältige Rollen in den Bereichen Design, Vertrieb, Corporate Center und mehr.\n",
    "\n",
    "Die Unternehmenswerte von ti&m AG spiegeln ihre Verpflichtung zu Talent, nachhaltigem Wachstum, Respekt und Toleranz, Leidenschaft, Swissness und dem Mut zur Innovation wider. Sie legen Wert auf den direkten Austausch mit Menschen über Methode oder Prozess und fördern stabile Werte im Einklang mit Kunden, Mitarbeitenden, Gesellschaft und Umwelt.\n",
    "\n",
    "Mitarbeitern bietet ti&m AG eine Reihe von Vorteilen. Dazu gehören Weiterbildungsmöglichkeiten durch die hauseigene ti&m academy, finanzielle Vorteile wie Spesen- und Home-Office-Pauschalen, flexible Arbeitsmodelle mit der Möglichkeit, das Arbeitspensum monatlich anzupassen, und Gesundheitsinitiativen wie die Zusammenarbeit mit Fitnessstudios.\n",
    "\n",
    "ti&m AG hat eine beeindruckende Erfolgsgeschichte von Projekten in verschiedenen Branchen. Beispielsweise entwickelten sie für die Eidgenössische Steuerverwaltung einen neuen Online-Steuerrechner, der es ermöglicht, die Steuerbelastung für Einkommen und Vermögen, Erbschaften und Kapitalleistungen aus der Vorsorge für alle Gemeinden zu berechnen.\n",
    "\n",
    "Sie setzen sich auch für soziale Verantwortung ein und organisieren Veranstaltungen wie hack an app, eine IT-Projektwoche für Kinder zwischen 11 und 14 Jahren, und shake the lake, ein Sommer-Event am Zürichsee, bei dem alle zusammen feiern, wakeboarden oder segeln können.\n",
    "\n",
    "**Fringe Benefits**\n",
    "\n",
    "Spesen- und Home-Office-Pauschale\n",
    "Mitarbeitenden-Vermittlungsprogramm: 8’888.– CHF für dich\n",
    "Bestellung für private Notebooks möglich: Ausschluss Support, nur Hardware-Mitbestellung\n",
    "Auto-Flottenrabatt – profitiere von Rabatten für Mobilität\n",
    "Krankenkassen-Vergünstigung: Sanitas – mehr fürs Geld und deine Gesundheit\n",
    "Jubiläums-Geschenk: bei uns bleiben lohnt sich\n",
    "Vergünstigung – Mobile-/Internet-/TV-Abonnement: Für dich und die Familie\n",
    "\n",
    "ti&m academy: onsite & online Trainings am Puls der Zeit, Mitarbeiterentwicklung ist uns wichtig (niemals auslernen)\n",
    "Meisterschwanden: Mitarbeiterförderporgramm als 2-Tages Event, um individuelle Entwicklungsziele sowie ti&m weiterzubringen.\n",
    "Surfer College: Leadership-Programm mit dem integrierten CAS für angehende Führungskräfte\n",
    "Code Camp: coden in den Bergen\n",
    "Duck Dive: als Expat temporär in einer anderen ti&m site arbeiten\n",
    "360°: In diesem Förderungsprogramm werden Führungskräfte gezielt in ihrer Rolle weiterentwickelt.\n",
    "\n",
    "Kooperationen mit Gyms – deine Vitalität ist uns wichtig\n",
    "Jährliche, präventive Lungenuntersuchung mit dem LuftiBus – wir geben aufeinander Acht\n",
    "\n",
    "Erweiterte Laptop-Wahl: Du weisst am besten, was für dich funktioniert\n",
    "Home-Office: 1 Monitor pro MA – wir unterstützen dich auch zuhause\n",
    "\n",
    "ti&m places – Wahl des Arbeitsplatzes, wenn es mal einen Tapetenwechsel geben muss\n",
    "Verkauf von IT- & Büro-Infrastruktur an Mitarbeitende: der Erlös wird gespendet – Secondhand für einen guten Zweck\n",
    "Parkplatz für Mitarbeitende: auch mal spontan\n",
    "\n",
    "Hybrides Arbeitsmodell: 3 Tage Home-Office & 2 Team-Tage. im Office (100%)\n",
    "Arbeitszeit = Gleitzeit: arbeite im Einklang mit\n",
    "deiner Freizeit\n",
    "Pensumsanpassung z.B. von 100% auf 80% auf Monatsbasis: Arbeitszeiten entlang deiner Bedürfnisse\n",
    "Wiedereinstiegsgarantie für Mütter: auch nach 2 Jahren\n",
    "Unbezahlter Urlaub jederzeit möglich: Wir fördern das Kennenlernen von neuen Kulturen und Werten\n",
    "\n",
    "Mitarbeitende-Awards (Point Break): Geniesse ein Essen mit deinem Projektteam\n",
    "Gang of 8: Deine Ansprechpersonen für Unternehmenskultur, jederzeit ein offenes Ohr, ohne Hierarchie\n",
    "Glace ab 30°: Erfrischung bei der Arbeit\n",
    "ti&m Feierabendbier\n",
    "Bern- & Zürich Zoo-Besucherkarten: Entdecke die Welt der Tiere\n",
    "Corporate Portale: Brands for employees\n",
    "\"\"\""
   ]
  },
  {
   "cell_type": "markdown",
   "metadata": {},
   "source": [
    "**Context Prompt (instance_context)**\n",
    "\n",
    "This prompt will be put right after the role prompt. If you create multiple chatbots of the same type, this prompt will be used only for one of them. <br />\n",
    "\n",
    "You can use this prompt to specify user-specific behaviour, for example information about the particular user that will use this chatbot instance."
   ]
  },
  {
   "cell_type": "code",
   "execution_count": 4,
   "metadata": {},
   "outputs": [],
   "source": [
    "my_instance_context = \"\"\"\n",
    "    Meet Toni, a 25 year old male, just graduated in business IT at the university.\n",
    "\"\"\""
   ]
  },
  {
   "cell_type": "markdown",
   "metadata": {},
   "source": [
    "**Starter Prompt (instance_starter)**\n",
    "\n",
    "This prompt will be appended after the role and context prompts and is meant to instruct GPT to create an initial message that opens the conversation with the user. <br />\n",
    "\n",
    "You can use this prompt to instruct GPT to welcome the user, ask initial questions, and how to proceed from there."
   ]
  },
  {
   "cell_type": "code",
   "execution_count": 5,
   "metadata": {},
   "outputs": [],
   "source": [
    "\n",
    "my_instance_starter = \"\"\"\n",
    "Begrüsse den Kandidaten\n",
    "\"\"\""
   ]
  },
  {
   "cell_type": "markdown",
   "metadata": {},
   "source": [
    "##### 2.2. Create Chatbot\n",
    "The following code creates a new Chatbot where the chatbot type is identified by the type_id provided and the chatbot instance by the user_id. These two IDs will be used further below to construct the URL pointing to this chatbot once it is deployed.\n",
    "\n",
    "The type name is only used in the front-end and does not affect the conversational behaviour.\n",
    "\n",
    "Once this code is executed, the chatbot is stored in the database."
   ]
  },
  {
   "cell_type": "code",
   "execution_count": 6,
   "metadata": {},
   "outputs": [],
   "source": [
    "bot = Chatbot(\n",
    "    database_file=\"database/chatbot.db\", \n",
    "    type_id=\"c48a13d7\",\n",
    "    user_id=\"fe6d944d\",\n",
    "    type_name=\"HR Recruiter\",\n",
    "    type_role=my_type_role,\n",
    "    instance_context=my_instance_context,\n",
    "    instance_starter=my_instance_starter\n",
    ")"
   ]
  },
  {
   "cell_type": "markdown",
   "metadata": {},
   "source": [
    "##### 2.3. Initiate Conversation Starter (Optional)\n",
    "\n",
    "If the chatbot should open the conversation with an initial message, the following code is executed. This code will execute a request to GPT, with the role, context and startet prompts specified above. The response from GPT (the initial message) will be stored in the database and therefore the user will see the opening message as soon as they access the chatbot."
   ]
  },
  {
   "cell_type": "code",
   "execution_count": 7,
   "metadata": {},
   "outputs": [
    {
     "name": "stdout",
     "output_type": "stream",
     "text": [
      "['Hallo Max, willkommen bei ti&m AG! Wie kann ich Ihnen helfen?']\n"
     ]
    }
   ],
   "source": [
    "print(bot.start())"
   ]
  },
  {
   "cell_type": "markdown",
   "metadata": {},
   "source": [
    "### 3. Deploy and Disseminate\n",
    "You can now deploy your chatbot. If you are using our guide for deploying to pythonanywhere.com, the URL to be handed out to the user is as follows.\n",
    "\n",
    "**Generic URL**\n",
    "\n",
    "https://[your pythonanywhere user name].pythonanywhere.com/[type id]/[user_id]/chat\n",
    "\n",
    "\n",
    "\n",
    "**For Example**\n",
    "\n",
    "https://monkey23.pythonanywhere.com/c48a13d7/fe6d944d/chat\n",
    "\n",
    "https://mosliver.pythonanywhere.com/c48a13d7/fe6d944d/chat\n",
    "\n"
   ]
  }
 ],
 "metadata": {
  "kernelspec": {
   "display_name": "Python 3",
   "language": "python",
   "name": "python3"
  },
  "language_info": {
   "codemirror_mode": {
    "name": "ipython",
    "version": 3
   },
   "file_extension": ".py",
   "mimetype": "text/x-python",
   "name": "python",
   "nbconvert_exporter": "python",
   "pygments_lexer": "ipython3",
   "version": "3.12.2"
  },
  "orig_nbformat": 4
 },
 "nbformat": 4,
 "nbformat_minor": 2
}
